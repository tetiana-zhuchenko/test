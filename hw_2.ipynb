{
  "cells": [
    {
      "cell_type": "markdown",
      "id": "6bbb4b6a",
      "metadata": {
        "id": "6bbb4b6a"
      },
      "source": [
        "# Homework 2: Pandas and simple visualization"
      ]
    },
    {
      "cell_type": "markdown",
      "id": "7ef4e602",
      "metadata": {
        "id": "7ef4e602"
      },
      "source": [
        "Дані для домашнього завдання були взяті з Kaggle, по [посиланню](https://www.kaggle.com/aungpyaeap/supermarket-sales) ви зможете знайти їх опис. "
      ]
    },
    {
      "cell_type": "markdown",
      "source": [
        "*   Invoice id: Computer generated sales slip invoice identification number\n",
        "\n",
        "*   Branch: Branch of supercenter (3 branches are available identified by A, B and C).\n",
        "\n",
        "*   City: Location of supercenters\n",
        "\n",
        "*   Customer type: Type of customers, recorded by Members for customers using member card and Normal for without member card.\n",
        "\n",
        "*   Gender: Gender type of customer\n",
        "\n",
        "*   Product line: General item categorization groups - Electronic accessories, Fashion accessories, Food and beverages, Health and beauty, Home and lifestyle, Sports and travel\n",
        "\n",
        "*   Unit price: Price of each product in $\n",
        "\n",
        "*   Quantity: Number of products purchased by customer\n",
        "\n",
        "*   Tax: 5% tax fee for customer buying\n",
        "\n",
        "*   Total: Total price including tax\n",
        "\n",
        "*   Date: Date of purchase (Record available from January 2019 to March 2019)\n",
        "\n",
        "*   Time: Purchase time (10am to 9pm)\n",
        "\n",
        "*   Payment: Payment used by customer for purchase (3 methods are available – Cash, Credit card and Ewallet)\n",
        "\n",
        "*   COGS: Cost of goods sold\n",
        "\n",
        "*   Gross margin percentage: Gross margin percentage\n",
        "\n",
        "*   Gross income: Gross income\n",
        "\n",
        "*   Rating: Customer stratification rating on their overall shopping experience (On a scale of 1 to 10)"
      ],
      "metadata": {
        "id": "90ApJ-BdcEkO"
      },
      "id": "90ApJ-BdcEkO"
    },
    {
      "cell_type": "markdown",
      "source": [
        "Для тих хто використовує Google Colab, не забудьте перед початком роботи загрузити файл supermarket_sales.csv або скористайтесь одним з методів наведених в [статті](https://towardsdatascience.com/3-ways-to-load-csv-files-into-colab-7c14fcbdcb92)"
      ],
      "metadata": {
        "id": "QgQvlIZ9clSx"
      },
      "id": "QgQvlIZ9clSx"
    },
    {
      "cell_type": "markdown",
      "id": "fd7f076b",
      "metadata": {
        "ExecuteTime": {
          "end_time": "2021-09-20T19:43:50.443031Z",
          "start_time": "2021-09-20T19:43:50.439600Z"
        },
        "id": "fd7f076b"
      },
      "source": [
        "1. Використовуючи  Pandas прочитайте набір даних в DataFrame з файлу  'supermarket_sales.csv'."
      ]
    },
    {
      "cell_type": "code",
      "execution_count": null,
      "id": "ac12f89b",
      "metadata": {
        "id": "ac12f89b"
      },
      "outputs": [],
      "source": [
        "df = None # ваш код тут"
      ]
    },
    {
      "cell_type": "markdown",
      "id": "ca064875",
      "metadata": {
        "ExecuteTime": {
          "end_time": "2021-09-20T19:44:56.499824Z",
          "start_time": "2021-09-20T19:44:56.496923Z"
        },
        "id": "ca064875"
      },
      "source": [
        "2. Відобразіть 5 перших записів і 5 останніх записів"
      ]
    },
    {
      "cell_type": "code",
      "execution_count": null,
      "id": "d095f26b",
      "metadata": {
        "id": "d095f26b"
      },
      "outputs": [],
      "source": [
        "# ваш код тут"
      ]
    },
    {
      "cell_type": "markdown",
      "id": "2d54e0e4",
      "metadata": {
        "id": "2d54e0e4"
      },
      "source": [
        "3. Виведіть назви колонок разом з їх типами даних"
      ]
    },
    {
      "cell_type": "code",
      "execution_count": null,
      "id": "509e34a4",
      "metadata": {
        "id": "509e34a4"
      },
      "outputs": [],
      "source": [
        "# ваш код тут"
      ]
    },
    {
      "cell_type": "markdown",
      "id": "75f38c1e",
      "metadata": {
        "ExecuteTime": {
          "end_time": "2021-09-20T19:46:49.248936Z",
          "start_time": "2021-09-20T19:46:49.245644Z"
        },
        "id": "75f38c1e"
      },
      "source": [
        "4. Скільки колонок мають текстовий тип даних? А скільки колонок мають числовий тип даних (float/int)? Відповідь треба дати за допомогою функцій бібіліотеки Pandas. Формат відповіді: тип - кількість колонок. Також, відповідь вважатиметься правильною, якщо для типів float і int будуть окермі стрічки у відповіді (тобто обʼєднувати їх необовʼязково)."
      ]
    },
    {
      "cell_type": "code",
      "execution_count": null,
      "id": "6ecd4a85",
      "metadata": {
        "ExecuteTime": {
          "end_time": "2021-09-20T19:47:21.096833Z",
          "start_time": "2021-09-20T19:47:21.094560Z"
        },
        "id": "6ecd4a85"
      },
      "outputs": [],
      "source": [
        "# ваш код тут"
      ]
    },
    {
      "cell_type": "markdown",
      "id": "815f9cc0",
      "metadata": {
        "id": "815f9cc0"
      },
      "source": [
        "5. Яку кількість покупок зробили чоловіки, а яку жінки?\n",
        "Спробуйте отримати відповідь за допомогою методу value_counts(), а також методу groupby()"
      ]
    },
    {
      "cell_type": "code",
      "execution_count": null,
      "id": "f167d0a9",
      "metadata": {
        "ExecuteTime": {
          "end_time": "2021-09-20T19:52:36.126936Z",
          "start_time": "2021-09-20T19:52:36.121615Z"
        },
        "id": "f167d0a9"
      },
      "outputs": [],
      "source": [
        "# ваш код тут"
      ]
    },
    {
      "cell_type": "markdown",
      "id": "f4c8d00f",
      "metadata": {
        "id": "f4c8d00f"
      },
      "source": [
        "6. Які існують унікальні продуктові лінії? (Product line)"
      ]
    },
    {
      "cell_type": "code",
      "execution_count": null,
      "id": "61ae9569",
      "metadata": {
        "ExecuteTime": {
          "end_time": "2021-09-20T19:53:58.379972Z",
          "start_time": "2021-09-20T19:53:58.375472Z"
        },
        "id": "61ae9569"
      },
      "outputs": [],
      "source": [
        "# ваш код тут"
      ]
    },
    {
      "cell_type": "markdown",
      "id": "7d3dc308",
      "metadata": {
        "ExecuteTime": {
          "end_time": "2021-09-20T19:54:26.232269Z",
          "start_time": "2021-09-20T19:54:26.229253Z"
        },
        "id": "7d3dc308"
      },
      "source": [
        "7. Яка середня ціна товару (Unit price) для кожної продуктової лінії (Product line)?\n",
        "Hint: отримати відповідь можна за допомогою лиш однієї стрічки коду =)"
      ]
    },
    {
      "cell_type": "code",
      "execution_count": null,
      "id": "575a0ffd",
      "metadata": {
        "id": "575a0ffd"
      },
      "outputs": [],
      "source": [
        "# ваш код тут"
      ]
    },
    {
      "cell_type": "markdown",
      "source": [
        "8. Перетворіть колонку Date в формат datetime."
      ],
      "metadata": {
        "id": "EoZChzjWgWfE"
      },
      "id": "EoZChzjWgWfE"
    },
    {
      "cell_type": "code",
      "source": [
        "df['Date'] = None # ваш код тут"
      ],
      "metadata": {
        "id": "PF_vvh3AgclJ"
      },
      "id": "PF_vvh3AgclJ",
      "execution_count": null,
      "outputs": []
    },
    {
      "cell_type": "markdown",
      "id": "36df4c40",
      "metadata": {
        "ExecuteTime": {
          "end_time": "2021-09-20T19:59:14.456652Z",
          "start_time": "2021-09-20T19:59:14.452991Z"
        },
        "id": "36df4c40"
      },
      "source": [
        "9. За допомогою команди plot() побудуйте лінійний графік суми всіх покупок за кожен день. Нехай лінія буде зеленого кольору :) Не забудьте підписати вісі і дати графіку назву (title). Oберіть комфортніший для вас спосіб: чи то за допомогою методів pandas, чи за допомогою Matplotlib. Або навіть обома!\n",
        "Для виконання даного завдання необхідно просумувати колонку Total для кожного дня "
      ]
    },
    {
      "cell_type": "code",
      "execution_count": null,
      "id": "d6f3e55b",
      "metadata": {
        "id": "d6f3e55b"
      },
      "outputs": [],
      "source": [
        "# ваш код тут"
      ]
    },
    {
      "cell_type": "markdown",
      "id": "eb08f39b",
      "metadata": {
        "ExecuteTime": {
          "end_time": "2021-09-20T20:10:04.154440Z",
          "start_time": "2021-09-20T20:10:04.144681Z"
        },
        "id": "eb08f39b"
      },
      "source": [
        "10. А тепер побудуйте графік кількості подобових продажів в кожному філіалі (Branch). Вкажіть розмір фігури (10, 6). На одному графіку має відображатись лінія для кожного філіалу. Лінії мають бути різного кольору. Кількість продажів можна порахувати як кількість унікальних Invoice ID.\n",
        "\n",
        "Один зі способів виконання завдання є створення наступної структури даних:\n",
        "1. зробити індексом дату\n",
        "2. колонки - це назви філіалів\n",
        "3. Значення кількість продажів в конкретну дану в конкретному філіалу\n",
        "4. Зробити таку транформацію можна за допомогою функції `pivot_table()`\n",
        "5. Таку таблицю можна легко відобразити на графіку за допомогою функції `DataFrame.plot()`  \n"
      ]
    },
    {
      "cell_type": "code",
      "execution_count": null,
      "id": "e090ee05",
      "metadata": {
        "ExecuteTime": {
          "end_time": "2021-09-20T20:24:10.478441Z",
          "start_time": "2021-09-20T20:24:10.121497Z"
        },
        "id": "e090ee05"
      },
      "outputs": [],
      "source": [
        "# ваш код тут"
      ]
    },
    {
      "cell_type": "markdown",
      "id": "135b71f8",
      "metadata": {
        "id": "135b71f8"
      },
      "source": [
        "Воу-воу, якось тяжко зрозуміти щось на такому графіку. Давайте спробуємо інакше. Покажіть кількість продажів для кодного філіала на окремому графіку.\n",
        "Досить просто зробити це, вказавши `subplots=True` в функції `plot()`.  \n",
        "Задайте розмір фігури (10,10)."
      ]
    },
    {
      "cell_type": "code",
      "execution_count": null,
      "id": "2be13edf",
      "metadata": {
        "ExecuteTime": {
          "end_time": "2021-09-20T20:32:09.735316Z",
          "start_time": "2021-09-20T20:32:08.948675Z"
        },
        "id": "2be13edf"
      },
      "outputs": [],
      "source": [
        "# ваш код тут"
      ]
    },
    {
      "cell_type": "markdown",
      "id": "7406d6d1",
      "metadata": {
        "id": "7406d6d1"
      },
      "source": [
        "<font color='blue'>**[Optional]**</font> Давайте зробимо графіки ще зручнішими для сприйняття. Хочеться їх трохи згладити. Одним з методів згладування є ковзне середнє (Moving Average - MA). Суть методу полягає в тому, що значення кожної точки дорівнює середньому значенню N попередніх точок. Це один з найпростіших методів згладжування набору статистичних даних і має кілька варіацій. [Тут](https://www.youtube.com/watch?v=7Rz_ITRIADg) непогано відео на тему. \n",
        " \n",
        "Для того, щоб порахувати ковзне середнє можемо використати функцію [pandas.DataFrame.rolling](https://pandas.pydata.org/docs/reference/api/pandas.DataFrame.rolling.html).     \n",
        "\n",
        "Используя параметры window=10 и min_periods=1 выведите сглаженные подневные графики количества продаж по филиалам. "
      ]
    },
    {
      "cell_type": "code",
      "execution_count": null,
      "id": "5d52e558",
      "metadata": {
        "ExecuteTime": {
          "end_time": "2021-09-20T20:44:22.715996Z",
          "start_time": "2021-09-20T20:44:22.712644Z"
        },
        "id": "5d52e558"
      },
      "outputs": [],
      "source": [
        "# ваш код тут"
      ]
    },
    {
      "cell_type": "markdown",
      "id": "e96bcfcd",
      "metadata": {
        "ExecuteTime": {
          "end_time": "2021-09-20T20:47:23.016233Z",
          "start_time": "2021-09-20T20:47:23.012993Z"
        },
        "id": "e96bcfcd"
      },
      "source": [
        "12. В якому місті знаходиться кожен з філіалів?"
      ]
    },
    {
      "cell_type": "code",
      "execution_count": null,
      "id": "d8775d69",
      "metadata": {
        "id": "d8775d69"
      },
      "outputs": [],
      "source": [
        "# ваш код тут"
      ]
    },
    {
      "cell_type": "markdown",
      "id": "1635a0be",
      "metadata": {
        "ExecuteTime": {
          "end_time": "2021-09-20T20:52:59.173329Z",
          "start_time": "2021-09-20T20:52:59.169950Z"
        },
        "id": "1635a0be"
      },
      "source": [
        "12. В яких містах покупці частіше розраховуються готівкоюй (`Cash`), а в яких - електронним гаманцем (`Ewallet`)?  \n",
        "Для виконання цього завдання можна сформувати таблицю, де стрічки будуть відповідати способам оплати (`Payment`), в стовпці - `City`, значення - кількість покупок (вони ж -  продажі).\n",
        "\n",
        "Цікавить саме відсоткове співвідношення покупок зроблених різними способами =)\n"
      ]
    },
    {
      "cell_type": "code",
      "execution_count": null,
      "id": "d4891a4e",
      "metadata": {
        "id": "d4891a4e"
      },
      "outputs": [],
      "source": [
        "# ваш код тут"
      ]
    },
    {
      "cell_type": "markdown",
      "id": "b357a816",
      "metadata": {
        "id": "b357a816"
      },
      "source": [
        "<font color='blue'>**[Optional]**</font> 13. Давайте тепер проаналізуємо розподіл цін на товари в різних продуктових лінійках. Наша ціль - знайти відповідь на питання: в якій продуктовій лінійці найбільше дорогих товарів (90-100 у.о.)?\n",
        "\n",
        "Для початку побудуємо візуалізацію і зробимо це кількома способами. Подумайте, яка є більш інформативною для вас і яку би ви використали для роботи.\n",
        "\n",
        "\n",
        "  13.1.  На одній фігурі відобразіть гістограму розподілу цін на товари для кожної продуктової лінійкию Тобто на одній фігурі кількість гістограм рівна кількості продуктових лінійок."
      ]
    },
    {
      "cell_type": "code",
      "execution_count": null,
      "id": "cbcfb6f6",
      "metadata": {
        "ExecuteTime": {
          "end_time": "2021-09-20T21:11:56.022797Z",
          "start_time": "2021-09-20T21:11:56.020757Z"
        },
        "id": "cbcfb6f6"
      },
      "outputs": [],
      "source": [
        "# ваш код тут"
      ]
    },
    {
      "cell_type": "markdown",
      "id": "ce82d63f",
      "metadata": {
        "id": "ce82d63f"
      },
      "source": [
        "13.2. А тепер відобразіть гістограми з однаковою кількість бінів на одному графікую Для зручності використовуйте прозорість alpha не більше 0.4 і переконайтесь, що гістограми різного кольору. Не забудьте про легенду, заголовок. "
      ]
    },
    {
      "cell_type": "code",
      "execution_count": null,
      "id": "67dc9149",
      "metadata": {
        "ExecuteTime": {
          "end_time": "2021-09-20T21:11:56.022797Z",
          "start_time": "2021-09-20T21:11:56.020757Z"
        },
        "id": "67dc9149"
      },
      "outputs": [],
      "source": [
        "# ваш код тут"
      ]
    },
    {
      "cell_type": "markdown",
      "id": "077d2557",
      "metadata": {
        "id": "077d2557"
      },
      "source": [
        "То яка візуалізація виявилась для вас зручнішою і чому?"
      ]
    },
    {
      "cell_type": "markdown",
      "id": "48d80b13",
      "metadata": {
        "id": "48d80b13"
      },
      "source": [
        "ваша відповідь тут"
      ]
    },
    {
      "cell_type": "markdown",
      "id": "bb572cb0",
      "metadata": {
        "id": "bb572cb0"
      },
      "source": [
        "13.3. А тепер знайдіть відповідь на питання за допомогою функцій numpy і pandas."
      ]
    },
    {
      "cell_type": "code",
      "source": [
        "# ваш код тут"
      ],
      "metadata": {
        "id": "ekTpHo0_Eymn"
      },
      "id": "ekTpHo0_Eymn",
      "execution_count": null,
      "outputs": []
    }
  ],
  "metadata": {
    "kernelspec": {
      "display_name": "Python 3 (ipykernel)",
      "language": "python",
      "name": "python3"
    },
    "language_info": {
      "codemirror_mode": {
        "name": "ipython",
        "version": 3
      },
      "file_extension": ".py",
      "mimetype": "text/x-python",
      "name": "python",
      "nbconvert_exporter": "python",
      "pygments_lexer": "ipython3",
      "version": "3.9.7"
    },
    "toc": {
      "base_numbering": 1,
      "nav_menu": {},
      "number_sections": true,
      "sideBar": true,
      "skip_h1_title": false,
      "title_cell": "Table of Contents",
      "title_sidebar": "Contents",
      "toc_cell": false,
      "toc_position": {},
      "toc_section_display": true,
      "toc_window_display": false
    },
    "colab": {
      "provenance": []
    }
  },
  "nbformat": 4,
  "nbformat_minor": 5
}